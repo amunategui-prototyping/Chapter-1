{
 "cells": [
  {
   "cell_type": "code",
   "execution_count": 95,
   "metadata": {
    "collapsed": false,
    "deletable": true,
    "editable": true
   },
   "outputs": [
    {
     "name": "stdout",
     "output_type": "stream",
     "text": [
      "   pclass  survived                                             name     sex  \\\n",
      "0       1         1                    Allen, Miss. Elisabeth Walton  female   \n",
      "1       1         1                   Allison, Master. Hudson Trevor    male   \n",
      "2       1         0                     Allison, Miss. Helen Loraine  female   \n",
      "3       1         0             Allison, Mr. Hudson Joshua Creighton    male   \n",
      "4       1         0  Allison, Mrs. Hudson J C (Bessie Waldo Daniels)  female   \n",
      "\n",
      "     age  sibsp  parch  ticket      fare    cabin embarked boat   body  \\\n",
      "0  29.00      0      0   24160  211.3375       B5        S    2    NaN   \n",
      "1   0.92      1      2  113781  151.5500  C22 C26        S   11    NaN   \n",
      "2   2.00      1      2  113781  151.5500  C22 C26        S  NaN    NaN   \n",
      "3  30.00      1      2  113781  151.5500  C22 C26        S  NaN  135.0   \n",
      "4  25.00      1      2  113781  151.5500  C22 C26        S  NaN    NaN   \n",
      "\n",
      "                         home.dest  \n",
      "0                     St Louis, MO  \n",
      "1  Montreal, PQ / Chesterville, ON  \n",
      "2  Montreal, PQ / Chesterville, ON  \n",
      "3  Montreal, PQ / Chesterville, ON  \n",
      "4  Montreal, PQ / Chesterville, ON  \n"
     ]
    }
   ],
   "source": [
    "#!/usr/bin/env python\n",
    "import pandas as pd\n",
    "import numpy as np \n",
    "\n",
    "# download the data from the Vanderbilt University Department of Biostatistics servers\n",
    "titanic_df = pd.read_csv('http://biostat.mc.vanderbilt.edu/wiki/pub/Main/DataSets/titanic3.csv')\n",
    "\n",
    "# take a peek at the data\n",
    "print(titanic_df.head())\n"
   ]
  },
  {
   "cell_type": "markdown",
   "metadata": {
    "deletable": true,
    "editable": true
   },
   "source": [
    "<H1>Data Exploration</H1>"
   ]
  },
  {
   "cell_type": "code",
   "execution_count": 96,
   "metadata": {
    "collapsed": false,
    "deletable": true,
    "editable": true
   },
   "outputs": [
    {
     "data": {
      "text/plain": [
       "pclass         int64\n",
       "survived       int64\n",
       "name          object\n",
       "sex           object\n",
       "age          float64\n",
       "sibsp          int64\n",
       "parch          int64\n",
       "ticket        object\n",
       "fare         float64\n",
       "cabin         object\n",
       "embarked      object\n",
       "boat          object\n",
       "body         float64\n",
       "home.dest     object\n",
       "dtype: object"
      ]
     },
     "execution_count": 96,
     "metadata": {},
     "output_type": "execute_result"
    }
   ],
   "source": [
    "# feature data types\n",
    "titanic_df.dtypes\n"
   ]
  },
  {
   "cell_type": "code",
   "execution_count": 97,
   "metadata": {
    "collapsed": false,
    "deletable": true,
    "editable": true
   },
   "outputs": [
    {
     "data": {
      "text/html": [
       "<div>\n",
       "<style scoped>\n",
       "    .dataframe tbody tr th:only-of-type {\n",
       "        vertical-align: middle;\n",
       "    }\n",
       "\n",
       "    .dataframe tbody tr th {\n",
       "        vertical-align: top;\n",
       "    }\n",
       "\n",
       "    .dataframe thead th {\n",
       "        text-align: right;\n",
       "    }\n",
       "</style>\n",
       "<table border=\"1\" class=\"dataframe\">\n",
       "  <thead>\n",
       "    <tr style=\"text-align: right;\">\n",
       "      <th></th>\n",
       "      <th>pclass</th>\n",
       "      <th>survived</th>\n",
       "      <th>age</th>\n",
       "      <th>sibsp</th>\n",
       "      <th>parch</th>\n",
       "      <th>fare</th>\n",
       "      <th>body</th>\n",
       "    </tr>\n",
       "  </thead>\n",
       "  <tbody>\n",
       "    <tr>\n",
       "      <th>count</th>\n",
       "      <td>1309.000000</td>\n",
       "      <td>1309.000000</td>\n",
       "      <td>1046.000000</td>\n",
       "      <td>1309.000000</td>\n",
       "      <td>1309.000000</td>\n",
       "      <td>1308.000000</td>\n",
       "      <td>121.000000</td>\n",
       "    </tr>\n",
       "    <tr>\n",
       "      <th>mean</th>\n",
       "      <td>2.294882</td>\n",
       "      <td>0.381971</td>\n",
       "      <td>29.881138</td>\n",
       "      <td>0.498854</td>\n",
       "      <td>0.385027</td>\n",
       "      <td>33.295479</td>\n",
       "      <td>160.809917</td>\n",
       "    </tr>\n",
       "    <tr>\n",
       "      <th>std</th>\n",
       "      <td>0.837836</td>\n",
       "      <td>0.486055</td>\n",
       "      <td>14.413493</td>\n",
       "      <td>1.041658</td>\n",
       "      <td>0.865560</td>\n",
       "      <td>51.758668</td>\n",
       "      <td>97.696922</td>\n",
       "    </tr>\n",
       "    <tr>\n",
       "      <th>min</th>\n",
       "      <td>1.000000</td>\n",
       "      <td>0.000000</td>\n",
       "      <td>0.170000</td>\n",
       "      <td>0.000000</td>\n",
       "      <td>0.000000</td>\n",
       "      <td>0.000000</td>\n",
       "      <td>1.000000</td>\n",
       "    </tr>\n",
       "    <tr>\n",
       "      <th>25%</th>\n",
       "      <td>2.000000</td>\n",
       "      <td>0.000000</td>\n",
       "      <td>21.000000</td>\n",
       "      <td>0.000000</td>\n",
       "      <td>0.000000</td>\n",
       "      <td>7.895800</td>\n",
       "      <td>72.000000</td>\n",
       "    </tr>\n",
       "    <tr>\n",
       "      <th>50%</th>\n",
       "      <td>3.000000</td>\n",
       "      <td>0.000000</td>\n",
       "      <td>28.000000</td>\n",
       "      <td>0.000000</td>\n",
       "      <td>0.000000</td>\n",
       "      <td>14.454200</td>\n",
       "      <td>155.000000</td>\n",
       "    </tr>\n",
       "    <tr>\n",
       "      <th>75%</th>\n",
       "      <td>3.000000</td>\n",
       "      <td>1.000000</td>\n",
       "      <td>39.000000</td>\n",
       "      <td>1.000000</td>\n",
       "      <td>0.000000</td>\n",
       "      <td>31.275000</td>\n",
       "      <td>256.000000</td>\n",
       "    </tr>\n",
       "    <tr>\n",
       "      <th>max</th>\n",
       "      <td>3.000000</td>\n",
       "      <td>1.000000</td>\n",
       "      <td>80.000000</td>\n",
       "      <td>8.000000</td>\n",
       "      <td>9.000000</td>\n",
       "      <td>512.329200</td>\n",
       "      <td>328.000000</td>\n",
       "    </tr>\n",
       "  </tbody>\n",
       "</table>\n",
       "</div>"
      ],
      "text/plain": [
       "            pclass     survived          age        sibsp        parch  \\\n",
       "count  1309.000000  1309.000000  1046.000000  1309.000000  1309.000000   \n",
       "mean      2.294882     0.381971    29.881138     0.498854     0.385027   \n",
       "std       0.837836     0.486055    14.413493     1.041658     0.865560   \n",
       "min       1.000000     0.000000     0.170000     0.000000     0.000000   \n",
       "25%       2.000000     0.000000    21.000000     0.000000     0.000000   \n",
       "50%       3.000000     0.000000    28.000000     0.000000     0.000000   \n",
       "75%       3.000000     1.000000    39.000000     1.000000     0.000000   \n",
       "max       3.000000     1.000000    80.000000     8.000000     9.000000   \n",
       "\n",
       "              fare        body  \n",
       "count  1308.000000  121.000000  \n",
       "mean     33.295479  160.809917  \n",
       "std      51.758668   97.696922  \n",
       "min       0.000000    1.000000  \n",
       "25%       7.895800   72.000000  \n",
       "50%      14.454200  155.000000  \n",
       "75%      31.275000  256.000000  \n",
       "max     512.329200  328.000000  "
      ]
     },
     "execution_count": 97,
     "metadata": {},
     "output_type": "execute_result"
    }
   ],
   "source": [
    "# summary of quantitative data\n",
    "titanic_df.describe()"
   ]
  },
  {
   "cell_type": "code",
   "execution_count": 98,
   "metadata": {
    "collapsed": false,
    "deletable": true,
    "editable": true
   },
   "outputs": [
    {
     "data": {
      "text/html": [
       "<div>\n",
       "<style scoped>\n",
       "    .dataframe tbody tr th:only-of-type {\n",
       "        vertical-align: middle;\n",
       "    }\n",
       "\n",
       "    .dataframe tbody tr th {\n",
       "        vertical-align: top;\n",
       "    }\n",
       "\n",
       "    .dataframe thead th {\n",
       "        text-align: right;\n",
       "    }\n",
       "</style>\n",
       "<table border=\"1\" class=\"dataframe\">\n",
       "  <thead>\n",
       "    <tr style=\"text-align: right;\">\n",
       "      <th></th>\n",
       "      <th>Percent Missing</th>\n",
       "    </tr>\n",
       "  </thead>\n",
       "  <tbody>\n",
       "    <tr>\n",
       "      <th>body</th>\n",
       "      <td>0.907563</td>\n",
       "    </tr>\n",
       "    <tr>\n",
       "      <th>cabin</th>\n",
       "      <td>0.774637</td>\n",
       "    </tr>\n",
       "    <tr>\n",
       "      <th>boat</th>\n",
       "      <td>0.628724</td>\n",
       "    </tr>\n",
       "    <tr>\n",
       "      <th>home.dest</th>\n",
       "      <td>0.430863</td>\n",
       "    </tr>\n",
       "    <tr>\n",
       "      <th>age</th>\n",
       "      <td>0.200917</td>\n",
       "    </tr>\n",
       "    <tr>\n",
       "      <th>embarked</th>\n",
       "      <td>0.001528</td>\n",
       "    </tr>\n",
       "    <tr>\n",
       "      <th>fare</th>\n",
       "      <td>0.000764</td>\n",
       "    </tr>\n",
       "    <tr>\n",
       "      <th>ticket</th>\n",
       "      <td>0.000000</td>\n",
       "    </tr>\n",
       "    <tr>\n",
       "      <th>parch</th>\n",
       "      <td>0.000000</td>\n",
       "    </tr>\n",
       "    <tr>\n",
       "      <th>sibsp</th>\n",
       "      <td>0.000000</td>\n",
       "    </tr>\n",
       "    <tr>\n",
       "      <th>sex</th>\n",
       "      <td>0.000000</td>\n",
       "    </tr>\n",
       "    <tr>\n",
       "      <th>name</th>\n",
       "      <td>0.000000</td>\n",
       "    </tr>\n",
       "    <tr>\n",
       "      <th>survived</th>\n",
       "      <td>0.000000</td>\n",
       "    </tr>\n",
       "    <tr>\n",
       "      <th>pclass</th>\n",
       "      <td>0.000000</td>\n",
       "    </tr>\n",
       "  </tbody>\n",
       "</table>\n",
       "</div>"
      ],
      "text/plain": [
       "           Percent Missing\n",
       "body              0.907563\n",
       "cabin             0.774637\n",
       "boat              0.628724\n",
       "home.dest         0.430863\n",
       "age               0.200917\n",
       "embarked          0.001528\n",
       "fare              0.000764\n",
       "ticket            0.000000\n",
       "parch             0.000000\n",
       "sibsp             0.000000\n",
       "sex               0.000000\n",
       "name              0.000000\n",
       "survived          0.000000\n",
       "pclass            0.000000"
      ]
     },
     "execution_count": 98,
     "metadata": {},
     "output_type": "execute_result"
    }
   ],
   "source": [
    "# count missing data\n",
    "titanic_missing_count = titanic_df.isnull().sum().sort_values(ascending=False)\n",
    "pd.DataFrame({'Percent Missing':titanic_missing_count/len(titanic_df)})\n"
   ]
  },
  {
   "cell_type": "markdown",
   "metadata": {
    "deletable": true,
    "editable": true
   },
   "source": [
    "<H1>Data Preparation</H1>"
   ]
  },
  {
   "cell_type": "code",
   "execution_count": 99,
   "metadata": {
    "collapsed": false,
    "deletable": true,
    "editable": true
   },
   "outputs": [
    {
     "name": "stdout",
     "output_type": "stream",
     "text": [
      "set([nan, 'Q', 'S', 'C'])\n",
      "  pclass  survived    age  sibsp  parch      fare    cabin embarked    title  \\\n",
      "0  First         1  29.00      0      0  211.3375        B        S    Miss.   \n",
      "1  First         1   0.92      1      2  151.5500        C        S  Master.   \n",
      "2  First         0   2.00      1      2  151.5500        C        S    Miss.   \n",
      "3  First         0  30.00      1      2  151.5500        C        S      Mr.   \n",
      "4  First         0  25.00      1      2  151.5500        C        S     Mrs.   \n",
      "5  First         1  48.00      0      0   26.5500        E        S      Mr.   \n",
      "6  First         1  63.00      1      0   77.9583        D        S    Miss.   \n",
      "7  First         0  39.00      0      0    0.0000        A        S      Mr.   \n",
      "8  First         1  53.00      2      0   51.4792        C        S     Mrs.   \n",
      "9  First         0  71.00      0      0   49.5042  Unknown        C      Mr.   \n",
      "\n",
      "   isfemale  \n",
      "0         1  \n",
      "1         0  \n",
      "2         1  \n",
      "3         0  \n",
      "4         1  \n",
      "5         0  \n",
      "6         1  \n",
      "7         0  \n",
      "8         1  \n",
      "9         0  \n"
     ]
    }
   ],
   "source": [
    "\n",
    "# create title field and get extract title name\n",
    "titanic_df['title'] = [ln.split()[1] for ln in titanic_df['name'].values]\n",
    "titanic_df['title'].value_counts()\n",
    "titanic_df['title'] = [title if title in ['Mr.', 'Miss.', 'Mrs.', 'Master.', 'Dr.', 'Rev.'] else 'Unknown'\n",
    "                       for title in titanic_df['title'].values ]\n",
    "\n",
    "# strip first letter from cabin number if there\n",
    "titanic_df['cabin'] = titanic_df['cabin'].replace(np.NaN, 'U') \n",
    "titanic_df['cabin'] = [ln[0] for ln in titanic_df['cabin'].values]\n",
    "titanic_df['cabin'] = titanic_df['cabin'].replace('U', 'Unknown') \n",
    "print(set(titanic_df['embarked']))\n",
    "\n",
    "# create isfemale field and use numerical values\n",
    "titanic_df['isfemale'] = np.where(titanic_df['sex'] == 'female', 1, 0)\n",
    "\n",
    "# drop features not needed for model \n",
    "titanic_df = titanic_df[[f for f in list(titanic_df) if f not in ['sex', 'name', 'boat','body', 'ticket', 'home.dest']]]\n",
    "\n",
    "# make pclass actual categorical column\n",
    "titanic_df['pclass'] = np.where(titanic_df['pclass'] == 1, 'First', \n",
    "                                np.where(titanic_df['pclass'] == 2, 'Second', 'Third'))\n",
    "\n",
    "\n",
    "titanic_df['embarked'] = titanic_df['embarked'].replace(np.NaN, 'Unknown') \n",
    "\n",
    "\n",
    "print(titanic_df.head(10))"
   ]
  },
  {
   "cell_type": "markdown",
   "metadata": {
    "deletable": true,
    "editable": true
   },
   "source": [
    "<H1>Modeling with Logistic Regression</H1>"
   ]
  },
  {
   "cell_type": "code",
   "execution_count": 100,
   "metadata": {
    "collapsed": false,
    "deletable": true,
    "editable": true
   },
   "outputs": [
    {
     "name": "stdout",
     "output_type": "stream",
     "text": [
      "Average probability of surviving Titanic trip: 38.20 percent\n"
     ]
    }
   ],
   "source": [
    "# get average survival rate to compare to prediction values\n",
    "average_survival_rate = np.mean(titanic_df['survived']) * 100\n",
    "print('Average probability of surviving Titanic trip: %.2f percent' % average_survival_rate)\n"
   ]
  },
  {
   "cell_type": "code",
   "execution_count": 101,
   "metadata": {
    "collapsed": false,
    "deletable": true,
    "editable": true
   },
   "outputs": [],
   "source": [
    "def prepare_data_for_model(raw_dataframe):\n",
    "    # dummy all categorical fields \n",
    "    dataframe_dummy = pd.get_dummies(raw_dataframe)\n",
    "    # remove the nan colums in dataframe as most are outcome variable and we can't use them\n",
    "    dataframe_dummy = dataframe_dummy.dropna() \n",
    "    return (dataframe_dummy)\n",
    " "
   ]
  },
  {
   "cell_type": "code",
   "execution_count": 102,
   "metadata": {
    "collapsed": false,
    "deletable": true,
    "editable": true
   },
   "outputs": [
    {
     "name": "stdout",
     "output_type": "stream",
     "text": [
      "Accuracy of logistic regression classifier on test set: 79.35%\n"
     ]
    }
   ],
   "source": [
    "titanic_ready_df = prepare_data_for_model(titanic_df)\n",
    "from sklearn.cross_validation import cross_val_score, cross_val_predict\n",
    " \n",
    "features = [feat for feat in list(titanic_ready_df) if feat != 'survived']\n",
    "X_train, X_test, y_train, y_test = cross_validation.train_test_split(titanic_ready_df.loc[:, titanic_ready_df.columns != 'survived'], titanic_ready_df[['survived']], test_size=0.5, random_state=42)\n",
    "\n",
    "from sklearn.linear_model import LogisticRegression\n",
    "from sklearn import metrics\n",
    "\n",
    "\n",
    "# logistic regression modeling\n",
    "lr_model = LogisticRegression()\n",
    "\n",
    "# fit model (train it with training portion)\n",
    "lr_model.fit(X_train, np.ravel(y_train))\n",
    "\n",
    "# predict on test portion\n",
    "y_pred = lr_model.predict(X_test)\n",
    "print('Accuracy of logistic regression classifier on test set: {:.2f}%'.format(lr_model.score(X_test, y_test)*100))\n"
   ]
  },
  {
   "cell_type": "markdown",
   "metadata": {
    "deletable": true,
    "editable": true
   },
   "source": [
    "<H1>Predict using Fictional Passenger</H1>"
   ]
  },
  {
   "cell_type": "code",
   "execution_count": 103,
   "metadata": {
    "collapsed": true,
    "deletable": true,
    "editable": true
   },
   "outputs": [],
   "source": [
    "# Create your own passenger\n",
    "x_predict_pclass = 'Third' # First, Second, Third\n",
    "x_predict_is_female=1 # 0-1\n",
    "x_predict_age=10 # 0-100\n",
    "x_predict_sibsp=3 #  (0-8)\n",
    "x_predict_parch = 0 #  (0-9)\n",
    "x_predict_fare = 200 #  (0-500)\n",
    "x_predict_cabin = 'A' # 'A', 'C', 'B', 'E', 'D', 'G', 'F', 'T', 'Z' \n",
    "x_predict_embarked = 'Q' #  'Q', 'S', 'C' # Cherbourg Queenstown Southampton\n",
    "x_predict_title = 'Mrs.' # ['Mr.', 'Miss.', 'Mrs.', 'Master.', 'Dr.', 'Rev.', Unknown]\n",
    " "
   ]
  },
  {
   "cell_type": "code",
   "execution_count": 104,
   "metadata": {
    "collapsed": true,
    "deletable": true,
    "editable": true
   },
   "outputs": [],
   "source": [
    "# make a copy of the original data set in order to create dummy categories that are the same as seen on \n",
    "# original data\n",
    "titanic_df_tmp = titanic_df.copy()\n",
    "# add new row to titanic df\n",
    "titanic_df_tmp = titanic_df_tmp[['pclass', 'age', 'sibsp', 'parch', 'fare', 'cabin', 'embarked', 'title', 'isfemale', 'survived']] \n",
    "\n",
    "titanic_fictional_df = pd.DataFrame([[x_predict_pclass, \n",
    "                                     x_predict_age,\n",
    "                                     x_predict_sibsp,\n",
    "                                     x_predict_parch,\n",
    "                                     x_predict_fare,\n",
    "                                     x_predict_cabin,\n",
    "                                     x_predict_embarked,\n",
    "                                     x_predict_title,\n",
    "                                     x_predict_is_female,\n",
    "                                     0]], columns = ['pclass', 'age', 'sibsp', 'parch', 'fare', 'cabin', 'embarked', 'title', 'isfemale', 'survived']) \n"
   ]
  },
  {
   "cell_type": "code",
   "execution_count": 105,
   "metadata": {
    "collapsed": false
   },
   "outputs": [
    {
     "name": "stdout",
     "output_type": "stream",
     "text": [
      "Probability of surviving Titanic voyage: 88.03 percent\n"
     ]
    }
   ],
   "source": [
    "# titanic_df_tmp.append(titanic_fictional_df)\n",
    "titanic_df_tmp = pd.concat([titanic_fictional_df, titanic_df_tmp], ignore_index=True)\n",
    "# titanic_df_tmp = pd.get_dummies(titanic_df_tmp)\n",
    "titanic_df_tmp = prepare_data_for_model(titanic_df_tmp)\n",
    "\n",
    "Y_pred = lr_model.predict_proba(titanic_df_tmp[features].head(1))\n",
    "probability_of_surviving_fictional_character = Y_pred[0][1] * 100\n",
    "print('Probability of surviving Titanic voyage: %.2f percent' % probability_of_surviving_fictional_character)\n",
    "\n"
   ]
  },
  {
   "cell_type": "code",
   "execution_count": 106,
   "metadata": {
    "collapsed": false
   },
   "outputs": [
    {
     "data": {
      "image/png": "[encoded data removed]",
      "text/plain": [
       "<matplotlib.figure.Figure at 0x1184f0510>"
      ]
     },
     "metadata": {},
     "output_type": "display_data"
    }
   ],
   "source": [
    "import matplotlib.pyplot as plt; plt.rcdefaults()\n",
    "import numpy as np\n",
    "import matplotlib.pyplot as plt\n",
    "fig = plt.figure()\n",
    "objects = ('Average Survival Rate', 'Fictional Traveler')\n",
    "y_pos = np.arange(len(objects))\n",
    "performance = [average_survival_rate, probability_of_surviving_fictional_character]\n",
    " \n",
    "ax = fig.add_subplot(111)\n",
    "colors = ['gray', 'blue']\n",
    "plt.bar(y_pos, performance, align='center', color = colors, alpha=0.5)\n",
    "plt.xticks(y_pos, objects)\n",
    "plt.axhline(average_survival_rate, color=\"r\")\n",
    "plt.ylim([0,100])\n",
    "plt.ylabel('Survival Probability')\n",
    "plt.title('How Did Your Fictional Traveler Do? \\n ' + str(round(probability_of_surviving_fictional_character,2)) + '% of Surviving!')\n",
    " \n",
    "plt.show()"
   ]
  },
  {
   "cell_type": "code",
   "execution_count": null,
   "metadata": {
    "collapsed": true
   },
   "outputs": [],
   "source": []
  }
 ],
 "metadata": {
  "kernelspec": {
   "display_name": "Python 2",
   "language": "python",
   "name": "python2"
  },
  "language_info": {
   "codemirror_mode": {
    "name": "ipython",
    "version": 2
   },
   "file_extension": ".py",
   "mimetype": "text/x-python",
   "name": "python",
   "nbconvert_exporter": "python",
   "pygments_lexer": "ipython2",
   "version": "2.7.13"
  }
 },
 "nbformat": 4,
 "nbformat_minor": 2
}
